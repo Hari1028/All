{
 "cells": [
  {
   "cell_type": "code",
   "execution_count": 1,
   "id": "cae39266",
   "metadata": {},
   "outputs": [
    {
     "name": "stdout",
     "output_type": "stream",
     "text": [
      "(8408, 12)\n"
     ]
    },
    {
     "data": {
      "text/html": [
       "<div>\n",
       "<style scoped>\n",
       "    .dataframe tbody tr th:only-of-type {\n",
       "        vertical-align: middle;\n",
       "    }\n",
       "\n",
       "    .dataframe tbody tr th {\n",
       "        vertical-align: top;\n",
       "    }\n",
       "\n",
       "    .dataframe thead th {\n",
       "        text-align: right;\n",
       "    }\n",
       "</style>\n",
       "<table border=\"1\" class=\"dataframe\">\n",
       "  <thead>\n",
       "    <tr style=\"text-align: right;\">\n",
       "      <th></th>\n",
       "      <th>id</th>\n",
       "      <th>name</th>\n",
       "      <th>brewery_type</th>\n",
       "      <th>street</th>\n",
       "      <th>city</th>\n",
       "      <th>state</th>\n",
       "      <th>postal_code</th>\n",
       "      <th>country</th>\n",
       "      <th>longitude</th>\n",
       "      <th>latitude</th>\n",
       "      <th>phone</th>\n",
       "      <th>website_url</th>\n",
       "    </tr>\n",
       "  </thead>\n",
       "  <tbody>\n",
       "    <tr>\n",
       "      <th>0</th>\n",
       "      <td>5128df48-79fc-4f0f-8b52-d06be54d0cec</td>\n",
       "      <td>(405) Brewing Co</td>\n",
       "      <td>micro</td>\n",
       "      <td>1716 Topeka St</td>\n",
       "      <td>Norman</td>\n",
       "      <td>Oklahoma</td>\n",
       "      <td>73069-8224</td>\n",
       "      <td>United States</td>\n",
       "      <td>-97.468182</td>\n",
       "      <td>35.257389</td>\n",
       "      <td>4058160490</td>\n",
       "      <td>http://www.405brewing.com</td>\n",
       "    </tr>\n",
       "    <tr>\n",
       "      <th>1</th>\n",
       "      <td>9c5a66c8-cc13-416f-a5d9-0a769c87d318</td>\n",
       "      <td>(512) Brewing Co</td>\n",
       "      <td>micro</td>\n",
       "      <td>407 Radam Ln Ste F200</td>\n",
       "      <td>Austin</td>\n",
       "      <td>Texas</td>\n",
       "      <td>78745-1197</td>\n",
       "      <td>United States</td>\n",
       "      <td>NaN</td>\n",
       "      <td>NaN</td>\n",
       "      <td>5129211545</td>\n",
       "      <td>http://www.512brewing.com</td>\n",
       "    </tr>\n",
       "    <tr>\n",
       "      <th>2</th>\n",
       "      <td>34e8c68b-6146-453f-a4b9-1f6cd99a5ada</td>\n",
       "      <td>1 of Us Brewing Company</td>\n",
       "      <td>micro</td>\n",
       "      <td>8100 Washington Ave</td>\n",
       "      <td>Mount Pleasant</td>\n",
       "      <td>Wisconsin</td>\n",
       "      <td>53406-3920</td>\n",
       "      <td>United States</td>\n",
       "      <td>-87.883364</td>\n",
       "      <td>42.720108</td>\n",
       "      <td>2624847553</td>\n",
       "      <td>https://www.1ofusbrewing.com</td>\n",
       "    </tr>\n",
       "    <tr>\n",
       "      <th>3</th>\n",
       "      <td>6d14b220-8926-4521-8d19-b98a2d6ec3db</td>\n",
       "      <td>10 Barrel Brewing Co</td>\n",
       "      <td>large</td>\n",
       "      <td>62970 18th St</td>\n",
       "      <td>Bend</td>\n",
       "      <td>Oregon</td>\n",
       "      <td>97701-9847</td>\n",
       "      <td>United States</td>\n",
       "      <td>-121.281706</td>\n",
       "      <td>44.086835</td>\n",
       "      <td>5415851007</td>\n",
       "      <td>http://www.10barrel.com</td>\n",
       "    </tr>\n",
       "    <tr>\n",
       "      <th>4</th>\n",
       "      <td>e2e78bd8-80ff-4a61-a65c-3bfbd9d76ce2</td>\n",
       "      <td>10 Barrel Brewing Co</td>\n",
       "      <td>large</td>\n",
       "      <td>1135 NW Galveston Ave Ste B</td>\n",
       "      <td>Bend</td>\n",
       "      <td>Oregon</td>\n",
       "      <td>97703-2465</td>\n",
       "      <td>United States</td>\n",
       "      <td>-121.328802</td>\n",
       "      <td>44.057565</td>\n",
       "      <td>5415851007</td>\n",
       "      <td>NaN</td>\n",
       "    </tr>\n",
       "  </tbody>\n",
       "</table>\n",
       "</div>"
      ],
      "text/plain": [
       "                                     id                     name brewery_type  \\\n",
       "0  5128df48-79fc-4f0f-8b52-d06be54d0cec         (405) Brewing Co        micro   \n",
       "1  9c5a66c8-cc13-416f-a5d9-0a769c87d318         (512) Brewing Co        micro   \n",
       "2  34e8c68b-6146-453f-a4b9-1f6cd99a5ada  1 of Us Brewing Company        micro   \n",
       "3  6d14b220-8926-4521-8d19-b98a2d6ec3db     10 Barrel Brewing Co        large   \n",
       "4  e2e78bd8-80ff-4a61-a65c-3bfbd9d76ce2     10 Barrel Brewing Co        large   \n",
       "\n",
       "                        street            city      state postal_code  \\\n",
       "0               1716 Topeka St          Norman   Oklahoma  73069-8224   \n",
       "1        407 Radam Ln Ste F200          Austin      Texas  78745-1197   \n",
       "2          8100 Washington Ave  Mount Pleasant  Wisconsin  53406-3920   \n",
       "3                62970 18th St            Bend     Oregon  97701-9847   \n",
       "4  1135 NW Galveston Ave Ste B            Bend     Oregon  97703-2465   \n",
       "\n",
       "         country   longitude   latitude       phone  \\\n",
       "0  United States  -97.468182  35.257389  4058160490   \n",
       "1  United States         NaN        NaN  5129211545   \n",
       "2  United States  -87.883364  42.720108  2624847553   \n",
       "3  United States -121.281706  44.086835  5415851007   \n",
       "4  United States -121.328802  44.057565  5415851007   \n",
       "\n",
       "                    website_url  \n",
       "0     http://www.405brewing.com  \n",
       "1     http://www.512brewing.com  \n",
       "2  https://www.1ofusbrewing.com  \n",
       "3       http://www.10barrel.com  \n",
       "4                           NaN  "
      ]
     },
     "execution_count": 1,
     "metadata": {},
     "output_type": "execute_result"
    }
   ],
   "source": [
    "import pandas as pd\n",
    "\n",
    "df = pd.read_csv(\"all_breweries_data.csv\")\n",
    "print(df.shape)\n",
    "df.head()\n"
   ]
  },
  {
   "cell_type": "code",
   "execution_count": 2,
   "id": "4d38e003",
   "metadata": {},
   "outputs": [
    {
     "name": "stdout",
     "output_type": "stream",
     "text": [
      "<class 'pandas.core.frame.DataFrame'>\n",
      "RangeIndex: 8408 entries, 0 to 8407\n",
      "Data columns (total 12 columns):\n",
      " #   Column        Non-Null Count  Dtype  \n",
      "---  ------        --------------  -----  \n",
      " 0   id            8408 non-null   object \n",
      " 1   name          8408 non-null   object \n",
      " 2   brewery_type  8408 non-null   object \n",
      " 3   street        7651 non-null   object \n",
      " 4   city          8408 non-null   object \n",
      " 5   state         8408 non-null   object \n",
      " 6   postal_code   8408 non-null   object \n",
      " 7   country       8408 non-null   object \n",
      " 8   longitude     6054 non-null   float64\n",
      " 9   latitude      6054 non-null   float64\n",
      " 10  phone         7557 non-null   object \n",
      " 11  website_url   7204 non-null   object \n",
      "dtypes: float64(2), object(10)\n",
      "memory usage: 788.4+ KB\n"
     ]
    }
   ],
   "source": [
    "df.info()"
   ]
  },
  {
   "cell_type": "code",
   "execution_count": 3,
   "id": "65734f42",
   "metadata": {},
   "outputs": [
    {
     "name": "stdout",
     "output_type": "stream",
     "text": [
      "Remaining entries after filtering USA: 8069\n"
     ]
    }
   ],
   "source": [
    "# Filter only USA-based breweries (most are already US)\n",
    "df = df[df['country'].str.lower() == 'united states'].copy()\n",
    "print(f\"Remaining entries after filtering USA: {len(df)}\")\n"
   ]
  },
  {
   "cell_type": "code",
   "execution_count": 4,
   "id": "0285ffcd",
   "metadata": {},
   "outputs": [
    {
     "name": "stdout",
     "output_type": "stream",
     "text": [
      "Duplicate records found: 0\n",
      "Data shape after duplicate removal: (8069, 12)\n"
     ]
    }
   ],
   "source": [
    "# Check for duplicates by brewery 'id'\n",
    "duplicates = df.duplicated(subset='id', keep='first').sum()\n",
    "print(f\"Duplicate records found: {duplicates}\")\n",
    "\n",
    "# Remove duplicates\n",
    "df = df.drop_duplicates(subset='id')\n",
    "print(f\"Data shape after duplicate removal: {df.shape}\")\n"
   ]
  },
  {
   "cell_type": "code",
   "execution_count": null,
   "id": "8b203c3f",
   "metadata": {},
   "outputs": [
    {
     "name": "stdout",
     "output_type": "stream",
     "text": [
      "longitude       2348\n",
      "latitude        2348\n",
      "website_url     1143\n",
      "phone            794\n",
      "street           757\n",
      "id                 0\n",
      "name               0\n",
      "brewery_type       0\n",
      "city               0\n",
      "state              0\n",
      "postal_code        0\n",
      "country            0\n",
      "dtype: int64\n"
     ]
    }
   ],
   "source": [
    "# Null summary\n",
    "null_summary = df.isnull().sum().sort_values(ascending=False)\n",
    "print(null_summary)\n"
   ]
  },
  {
   "cell_type": "code",
   "execution_count": 6,
   "id": "43101271",
   "metadata": {},
   "outputs": [],
   "source": [
    "# Clean postal_code to only keep 5-digit zip\n",
    "df['postal_code'] = df['postal_code'].str.extract(r'(\\d{5})')\n"
   ]
  },
  {
   "cell_type": "code",
   "execution_count": null,
   "id": "4fcfa60b",
   "metadata": {},
   "outputs": [
    {
     "data": {
      "text/plain": [
       "0       (405) 816-0490\n",
       "1       (512) 921-1545\n",
       "2       (262) 484-7553\n",
       "3       (541) 585-1007\n",
       "4       (541) 585-1007\n",
       "             ...      \n",
       "8345    (970) 223-2482\n",
       "8346    (813) 252-4541\n",
       "8347    (720) 664-5280\n",
       "8348    (605) 791-0411\n",
       "8349    (310) 650-2474\n",
       "Name: phone, Length: 8069, dtype: object"
      ]
     },
     "execution_count": 10,
     "metadata": {},
     "output_type": "execute_result"
    }
   ],
   "source": [
    "# Format phone numbers as (XXX) XXX-XXXX\n",
    "df['phone'] = df['phone'].fillna('').apply(lambda x: f\"({x[0:3]}) {x[3:6]}-{x[6:]}\" if len(x) == 10 else x)\n"
   ]
  },
  {
   "cell_type": "code",
   "execution_count": 8,
   "id": "cdbf6379",
   "metadata": {},
   "outputs": [
    {
     "name": "stdout",
     "output_type": "stream",
     "text": [
      "Total breweries: 8069\n",
      "Breweries with valid lat/lon (for map): 5721\n"
     ]
    }
   ],
   "source": [
    "# Create geo-based dataset (for map visualizations only)\n",
    "df_geo = df.dropna(subset=['latitude', 'longitude']).copy()\n",
    "\n",
    "# Keep df as full version for stats\n",
    "print(f\"Total breweries: {len(df)}\")\n",
    "print(f\"Breweries with valid lat/lon (for map): {len(df_geo)}\")\n"
   ]
  },
  {
   "cell_type": "code",
   "execution_count": 11,
   "id": "def3932d",
   "metadata": {},
   "outputs": [],
   "source": [
    "df.to_csv('done_cleaning.csv', index=False)\n"
   ]
  },
  {
   "cell_type": "code",
   "execution_count": null,
   "id": "d17a1a43",
   "metadata": {},
   "outputs": [],
   "source": []
  }
 ],
 "metadata": {
  "kernelspec": {
   "display_name": "base",
   "language": "python",
   "name": "python3"
  },
  "language_info": {
   "codemirror_mode": {
    "name": "ipython",
    "version": 3
   },
   "file_extension": ".py",
   "mimetype": "text/x-python",
   "name": "python",
   "nbconvert_exporter": "python",
   "pygments_lexer": "ipython3",
   "version": "3.12.4"
  }
 },
 "nbformat": 4,
 "nbformat_minor": 5
}
